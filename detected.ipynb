{
 "cells": [
  {
   "cell_type": "code",
   "execution_count": 24,
   "metadata": {},
   "outputs": [],
   "source": [
    "import keras\n",
    "from keras.datasets import cifar10\n",
    "from keras.preprocessing.image import ImageDataGenerator\n",
    "from keras.models import Sequential\n",
    "from keras.layers import Dense, Dropout, Activation, Flatten\n",
    "from keras.layers import Conv2D, MaxPooling2D,BatchNormalization,AveragePooling2D\n",
    "from keras import regularizers\n",
    "import numpy as np\n",
    "import pandas as pd\n",
    "from keras.models import model_from_json"
   ]
  },
  {
   "cell_type": "code",
   "execution_count": 14,
   "metadata": {},
   "outputs": [],
   "source": [
    "import  numpy as np\n",
    "import pandas as pd"
   ]
  },
  {
   "cell_type": "code",
   "execution_count": 15,
   "metadata": {},
   "outputs": [],
   "source": [
    "filename=r'C:\\Users\\VergilCrimson\\Desktop\\fer2013.csv'"
   ]
  },
  {
   "cell_type": "code",
   "execution_count": 16,
   "metadata": {},
   "outputs": [
    {
     "name": "stdout",
     "output_type": "stream",
     "text": [
      "number of instances:  35888\n"
     ]
    }
   ],
   "source": [
    "with open(filename,'r') as f:\n",
    "    content = f.readlines()\n",
    " \n",
    "    lines = np.array(content)\n",
    " \n",
    "    num_of_instances = lines.size\n",
    "    print(\"number of instances: \",num_of_instances)"
   ]
  },
  {
   "cell_type": "code",
   "execution_count": 17,
   "metadata": {},
   "outputs": [],
   "source": [
    "df=pd.read_csv(filename)"
   ]
  },
  {
   "cell_type": "code",
   "execution_count": 18,
   "metadata": {},
   "outputs": [
    {
     "data": {
      "text/html": [
       "<div>\n",
       "<style scoped>\n",
       "    .dataframe tbody tr th:only-of-type {\n",
       "        vertical-align: middle;\n",
       "    }\n",
       "\n",
       "    .dataframe tbody tr th {\n",
       "        vertical-align: top;\n",
       "    }\n",
       "\n",
       "    .dataframe thead th {\n",
       "        text-align: right;\n",
       "    }\n",
       "</style>\n",
       "<table border=\"1\" class=\"dataframe\">\n",
       "  <thead>\n",
       "    <tr style=\"text-align: right;\">\n",
       "      <th></th>\n",
       "      <th>emotion</th>\n",
       "      <th>pixels</th>\n",
       "      <th>Usage</th>\n",
       "    </tr>\n",
       "  </thead>\n",
       "  <tbody>\n",
       "    <tr>\n",
       "      <th>0</th>\n",
       "      <td>0</td>\n",
       "      <td>70 80 82 72 58 58 60 63 54 58 60 48 89 115 121...</td>\n",
       "      <td>Training</td>\n",
       "    </tr>\n",
       "    <tr>\n",
       "      <th>1</th>\n",
       "      <td>0</td>\n",
       "      <td>151 150 147 155 148 133 111 140 170 174 182 15...</td>\n",
       "      <td>Training</td>\n",
       "    </tr>\n",
       "    <tr>\n",
       "      <th>2</th>\n",
       "      <td>2</td>\n",
       "      <td>231 212 156 164 174 138 161 173 182 200 106 38...</td>\n",
       "      <td>Training</td>\n",
       "    </tr>\n",
       "    <tr>\n",
       "      <th>3</th>\n",
       "      <td>4</td>\n",
       "      <td>24 32 36 30 32 23 19 20 30 41 21 22 32 34 21 1...</td>\n",
       "      <td>Training</td>\n",
       "    </tr>\n",
       "    <tr>\n",
       "      <th>4</th>\n",
       "      <td>6</td>\n",
       "      <td>4 0 0 0 0 0 0 0 0 0 0 0 3 15 23 28 48 50 58 84...</td>\n",
       "      <td>Training</td>\n",
       "    </tr>\n",
       "  </tbody>\n",
       "</table>\n",
       "</div>"
      ],
      "text/plain": [
       "   emotion                                             pixels     Usage\n",
       "0        0  70 80 82 72 58 58 60 63 54 58 60 48 89 115 121...  Training\n",
       "1        0  151 150 147 155 148 133 111 140 170 174 182 15...  Training\n",
       "2        2  231 212 156 164 174 138 161 173 182 200 106 38...  Training\n",
       "3        4  24 32 36 30 32 23 19 20 30 41 21 22 32 34 21 1...  Training\n",
       "4        6  4 0 0 0 0 0 0 0 0 0 0 0 3 15 23 28 48 50 58 84...  Training"
      ]
     },
     "execution_count": 18,
     "metadata": {},
     "output_type": "execute_result"
    }
   ],
   "source": [
    "df.head()"
   ]
  },
  {
   "cell_type": "code",
   "execution_count": 19,
   "metadata": {},
   "outputs": [],
   "source": [
    "num_classes=7"
   ]
  },
  {
   "cell_type": "code",
   "execution_count": 20,
   "metadata": {},
   "outputs": [],
   "source": [
    "x_train, y_train, x_test, y_test = [], [], [], []\n",
    " \n",
    "for i in range(1,num_of_instances):\n",
    "    emotion, img, usage = lines[i].split(\",\")\n",
    " \n",
    "    val = img.split(\" \")\n",
    "    pixels = np.array(val, 'float32')\n",
    " \n",
    "    emotion = keras.utils.to_categorical(emotion, num_classes)\n",
    " \n",
    "    if 'Training' in usage:\n",
    "        y_train.append(emotion)\n",
    "        x_train.append(pixels)\n",
    "    elif 'PublicTest' in usage:\n",
    "        y_test.append(emotion)\n",
    "        x_test.append(pixels)"
   ]
  },
  {
   "cell_type": "code",
   "execution_count": 21,
   "metadata": {},
   "outputs": [],
   "source": [
    "x_train=np.array(x_train)\n",
    "x_test=np.array(x_test)\n",
    "y_train=np.array(y_train)\n",
    "y_test=np.array(y_test)"
   ]
  },
  {
   "cell_type": "code",
   "execution_count": 22,
   "metadata": {},
   "outputs": [
    {
     "data": {
      "text/plain": [
       "((28709, 2304), (3589, 2304), (28709, 7), (3589, 7))"
      ]
     },
     "execution_count": 22,
     "metadata": {},
     "output_type": "execute_result"
    }
   ],
   "source": [
    "x_train.shape,x_test.shape,y_train.shape,y_test.shape"
   ]
  },
  {
   "cell_type": "code",
   "execution_count": 25,
   "metadata": {},
   "outputs": [],
   "source": [
    "model = Sequential()\n",
    " \n",
    "#1st convolution layer\n",
    "model.add(Conv2D(64, (5, 5), activation='relu', input_shape=(48,48,1)))\n",
    "model.add(MaxPooling2D(pool_size=(5,5), strides=(2, 2)))\n",
    " \n",
    "#2nd convolution layer\n",
    "model.add(Conv2D(64, (3, 3), activation='relu'))\n",
    "model.add(Conv2D(64, (3, 3), activation='relu'))\n",
    "model.add(AveragePooling2D(pool_size=(3,3), strides=(2, 2)))\n",
    " \n",
    "#3rd convolution layer\n",
    "model.add(Conv2D(128, (3, 3), activation='relu'))\n",
    "model.add(Conv2D(128, (3, 3), activation='relu'))\n",
    "model.add(AveragePooling2D(pool_size=(3,3), strides=(2, 2)))\n",
    " \n",
    "model.add(Flatten())\n",
    " \n",
    "#fully connected neural networks\n",
    "model.add(Dense(1024, activation='relu'))\n",
    "model.add(Dropout(0.2))\n",
    "model.add(Dense(1024, activation='relu'))\n",
    "model.add(Dropout(0.2))\n",
    " \n",
    "model.add(Dense(num_classes, activation='softmax'))\n"
   ]
  },
  {
   "cell_type": "code",
   "execution_count": 26,
   "metadata": {},
   "outputs": [],
   "source": [
    "batch_size=32\n",
    "epochs=25"
   ]
  },
  {
   "cell_type": "code",
   "execution_count": 27,
   "metadata": {},
   "outputs": [],
   "source": [
    "x_train=np.array(x_train)\n",
    "y_train=np.array(y_train)\n",
    "\n",
    "x_train=x_train.reshape(-1,48,48,1)\n",
    "x_test=x_test.reshape(-1,48,48,1)"
   ]
  },
  {
   "cell_type": "code",
   "execution_count": 28,
   "metadata": {},
   "outputs": [],
   "source": [
    "model.compile(loss='categorical_crossentropy',\n",
    "              optimizer='Adam',\n",
    "              metrics=['accuracy'])"
   ]
  },
  {
   "cell_type": "code",
   "execution_count": 29,
   "metadata": {},
   "outputs": [
    {
     "name": "stdout",
     "output_type": "stream",
     "text": [
      "Train on 28709 samples, validate on 3589 samples\n",
      "Epoch 1/55\n",
      "28709/28709 [==============================] - 14s 497us/step - loss: 1.7704 - acc: 0.2764 - val_loss: 1.6469 - val_acc: 0.3374\n",
      "Epoch 2/55\n",
      "28709/28709 [==============================] - 9s 329us/step - loss: 1.6047 - acc: 0.3639 - val_loss: 1.6791 - val_acc: 0.3469\n",
      "Epoch 3/55\n",
      "28709/28709 [==============================] - 9s 330us/step - loss: 1.4928 - acc: 0.4150 - val_loss: 1.4389 - val_acc: 0.4494\n",
      "Epoch 4/55\n",
      "28709/28709 [==============================] - 9s 330us/step - loss: 1.4169 - acc: 0.4536 - val_loss: 1.3800 - val_acc: 0.4687\n",
      "Epoch 5/55\n",
      "28709/28709 [==============================] - 9s 330us/step - loss: 1.3516 - acc: 0.4779 - val_loss: 1.4104 - val_acc: 0.4648\n",
      "Epoch 6/55\n",
      "28709/28709 [==============================] - 9s 327us/step - loss: 1.3060 - acc: 0.5017 - val_loss: 1.3302 - val_acc: 0.4776\n",
      "Epoch 7/55\n",
      "28709/28709 [==============================] - 9s 331us/step - loss: 1.2567 - acc: 0.5193 - val_loss: 1.3019 - val_acc: 0.4971\n",
      "Epoch 8/55\n",
      "28709/28709 [==============================] - 9s 330us/step - loss: 1.2013 - acc: 0.5435 - val_loss: 1.2989 - val_acc: 0.5107\n",
      "Epoch 9/55\n",
      "28709/28709 [==============================] - 9s 331us/step - loss: 1.1518 - acc: 0.5621 - val_loss: 1.3521 - val_acc: 0.4879\n",
      "Epoch 10/55\n",
      "28709/28709 [==============================] - 9s 330us/step - loss: 1.0987 - acc: 0.5810 - val_loss: 1.3088 - val_acc: 0.5063\n",
      "Epoch 11/55\n",
      "28709/28709 [==============================] - 10s 332us/step - loss: 1.0448 - acc: 0.6040 - val_loss: 1.3144 - val_acc: 0.5213\n",
      "Epoch 12/55\n",
      "28709/28709 [==============================] - 9s 329us/step - loss: 0.9931 - acc: 0.6258 - val_loss: 1.3653 - val_acc: 0.5085\n",
      "Epoch 13/55\n",
      "28709/28709 [==============================] - 10s 331us/step - loss: 0.9289 - acc: 0.6488 - val_loss: 1.3549 - val_acc: 0.5261\n",
      "Epoch 14/55\n",
      "28709/28709 [==============================] - 9s 330us/step - loss: 0.8690 - acc: 0.6709 - val_loss: 1.3823 - val_acc: 0.5068\n",
      "Epoch 15/55\n",
      "28709/28709 [==============================] - 10s 332us/step - loss: 0.8080 - acc: 0.6975 - val_loss: 1.4395 - val_acc: 0.5149\n",
      "Epoch 16/55\n",
      "28709/28709 [==============================] - 10s 332us/step - loss: 0.7646 - acc: 0.7166 - val_loss: 1.5137 - val_acc: 0.5149\n",
      "Epoch 17/55\n",
      "28709/28709 [==============================] - 9s 326us/step - loss: 0.6975 - acc: 0.7408 - val_loss: 1.6435 - val_acc: 0.5054\n",
      "Epoch 18/55\n",
      "28709/28709 [==============================] - 9s 325us/step - loss: 0.6570 - acc: 0.7556 - val_loss: 1.6501 - val_acc: 0.5235\n",
      "Epoch 19/55\n",
      "28709/28709 [==============================] - 9s 324us/step - loss: 0.6160 - acc: 0.7729 - val_loss: 1.7307 - val_acc: 0.5199\n",
      "Epoch 20/55\n",
      "28709/28709 [==============================] - 9s 325us/step - loss: 0.5674 - acc: 0.7938 - val_loss: 1.8319 - val_acc: 0.5210\n",
      "Epoch 21/55\n",
      "28709/28709 [==============================] - 9s 329us/step - loss: 0.5297 - acc: 0.8087 - val_loss: 1.9142 - val_acc: 0.5135\n",
      "Epoch 22/55\n",
      "28709/28709 [==============================] - 10s 333us/step - loss: 0.5048 - acc: 0.8173 - val_loss: 1.9497 - val_acc: 0.5163\n",
      "Epoch 23/55\n",
      "28709/28709 [==============================] - 9s 330us/step - loss: 0.4659 - acc: 0.8338 - val_loss: 2.0326 - val_acc: 0.5155\n",
      "Epoch 24/55\n",
      "28709/28709 [==============================] - 10s 331us/step - loss: 0.4362 - acc: 0.8414 - val_loss: 2.1951 - val_acc: 0.5157\n",
      "Epoch 25/55\n",
      "28709/28709 [==============================] - 9s 329us/step - loss: 0.4354 - acc: 0.8446 - val_loss: 2.3215 - val_acc: 0.5035\n",
      "Epoch 26/55\n",
      "28709/28709 [==============================] - 9s 330us/step - loss: 0.4101 - acc: 0.8566 - val_loss: 2.1364 - val_acc: 0.5077\n",
      "Epoch 27/55\n",
      "28709/28709 [==============================] - 9s 329us/step - loss: 0.3890 - acc: 0.8628 - val_loss: 2.2228 - val_acc: 0.5196\n",
      "Epoch 28/55\n",
      "28709/28709 [==============================] - 9s 330us/step - loss: 0.3780 - acc: 0.8670 - val_loss: 2.2934 - val_acc: 0.4993\n",
      "Epoch 29/55\n",
      "28709/28709 [==============================] - 9s 330us/step - loss: 0.3541 - acc: 0.8758 - val_loss: 2.5200 - val_acc: 0.5043\n",
      "Epoch 30/55\n",
      "28709/28709 [==============================] - 9s 331us/step - loss: 0.3484 - acc: 0.8797 - val_loss: 2.3407 - val_acc: 0.5138\n",
      "Epoch 31/55\n",
      "28709/28709 [==============================] - 9s 325us/step - loss: 0.3508 - acc: 0.8791 - val_loss: 2.3454 - val_acc: 0.5052\n",
      "Epoch 32/55\n",
      "28709/28709 [==============================] - 9s 325us/step - loss: 0.3235 - acc: 0.8859 - val_loss: 2.3890 - val_acc: 0.5208\n",
      "Epoch 33/55\n",
      "28709/28709 [==============================] - 9s 329us/step - loss: 0.3071 - acc: 0.8927 - val_loss: 2.4875 - val_acc: 0.5244\n",
      "Epoch 34/55\n",
      "28709/28709 [==============================] - 9s 330us/step - loss: 0.3038 - acc: 0.8982 - val_loss: 2.4919 - val_acc: 0.5118\n",
      "Epoch 35/55\n",
      "28709/28709 [==============================] - 9s 326us/step - loss: 0.3208 - acc: 0.8926 - val_loss: 2.4385 - val_acc: 0.5183\n",
      "Epoch 36/55\n",
      "28709/28709 [==============================] - 9s 326us/step - loss: 0.3025 - acc: 0.8970 - val_loss: 2.6138 - val_acc: 0.5174\n",
      "Epoch 37/55\n",
      "28709/28709 [==============================] - 9s 326us/step - loss: 0.2864 - acc: 0.9047 - val_loss: 2.6559 - val_acc: 0.5132\n",
      "Epoch 38/55\n",
      "28709/28709 [==============================] - 9s 326us/step - loss: 0.2889 - acc: 0.9035 - val_loss: 2.6629 - val_acc: 0.4962\n",
      "Epoch 39/55\n",
      "28709/28709 [==============================] - 9s 326us/step - loss: 0.2900 - acc: 0.9025 - val_loss: 2.6630 - val_acc: 0.5107\n",
      "Epoch 40/55\n",
      "28709/28709 [==============================] - 9s 327us/step - loss: 0.2643 - acc: 0.9117 - val_loss: 2.8742 - val_acc: 0.5113\n",
      "Epoch 41/55\n",
      "28709/28709 [==============================] - 9s 329us/step - loss: 0.2663 - acc: 0.9110 - val_loss: 2.8013 - val_acc: 0.5104\n",
      "Epoch 42/55\n",
      "28709/28709 [==============================] - 9s 330us/step - loss: 0.2651 - acc: 0.9132 - val_loss: 2.7776 - val_acc: 0.5205\n",
      "Epoch 43/55\n",
      "28709/28709 [==============================] - 9s 327us/step - loss: 0.2810 - acc: 0.9089 - val_loss: 2.6886 - val_acc: 0.4896\n",
      "Epoch 44/55\n",
      "28709/28709 [==============================] - 9s 320us/step - loss: 0.2794 - acc: 0.9107 - val_loss: 2.7257 - val_acc: 0.5099\n",
      "Epoch 45/55\n",
      "28709/28709 [==============================] - 9s 324us/step - loss: 0.2453 - acc: 0.9188 - val_loss: 2.8899 - val_acc: 0.5099\n",
      "Epoch 46/55\n",
      "28709/28709 [==============================] - 10s 333us/step - loss: 0.2636 - acc: 0.9139 - val_loss: 2.9010 - val_acc: 0.5102\n",
      "Epoch 47/55\n",
      "28709/28709 [==============================] - 9s 331us/step - loss: 0.2710 - acc: 0.9110 - val_loss: 2.8662 - val_acc: 0.5060\n",
      "Epoch 48/55\n",
      "28709/28709 [==============================] - 10s 331us/step - loss: 0.2395 - acc: 0.9226 - val_loss: 2.9561 - val_acc: 0.4918\n",
      "Epoch 49/55\n",
      "28709/28709 [==============================] - 10s 332us/step - loss: 0.2465 - acc: 0.9208 - val_loss: 2.7385 - val_acc: 0.4979\n",
      "Epoch 50/55\n",
      "28709/28709 [==============================] - 10s 333us/step - loss: 0.2713 - acc: 0.9137 - val_loss: 2.8511 - val_acc: 0.5049\n",
      "Epoch 51/55\n",
      "28709/28709 [==============================] - 10s 331us/step - loss: 0.2629 - acc: 0.9159 - val_loss: 2.7526 - val_acc: 0.5141\n",
      "Epoch 52/55\n",
      "28709/28709 [==============================] - 9s 328us/step - loss: 0.2678 - acc: 0.9156 - val_loss: 2.7400 - val_acc: 0.5107\n",
      "Epoch 53/55\n",
      "28709/28709 [==============================] - 10s 331us/step - loss: 0.2462 - acc: 0.9205 - val_loss: 2.8668 - val_acc: 0.5091\n",
      "Epoch 54/55\n",
      "28709/28709 [==============================] - 10s 331us/step - loss: 0.2659 - acc: 0.9159 - val_loss: 2.8138 - val_acc: 0.5046\n",
      "Epoch 55/55\n",
      "28709/28709 [==============================] - 10s 332us/step - loss: 0.2433 - acc: 0.9224 - val_loss: 2.9463 - val_acc: 0.5107\n"
     ]
    },
    {
     "data": {
      "text/plain": [
       "<keras.callbacks.History at 0x24824c6b860>"
      ]
     },
     "execution_count": 29,
     "metadata": {},
     "output_type": "execute_result"
    }
   ],
   "source": [
    "batch_size=32\n",
    "epochs=55\n",
    "model.fit(x_train, y_train,\n",
    "              batch_size=batch_size,\n",
    "              epochs=epochs,\n",
    "              validation_data=(x_test, y_test),\n",
    "              shuffle=True)"
   ]
  },
  {
   "cell_type": "code",
   "execution_count": 30,
   "metadata": {},
   "outputs": [
    {
     "name": "stdout",
     "output_type": "stream",
     "text": [
      "3589/3589 [==============================] - 0s 104us/step\n"
     ]
    },
    {
     "data": {
      "text/plain": [
       "[2.946270553406051, 0.5107272220757321]"
      ]
     },
     "execution_count": 30,
     "metadata": {},
     "output_type": "execute_result"
    }
   ],
   "source": [
    "scores = model.evaluate(x_test, y_test, verbose=1)\n",
    "scores"
   ]
  },
  {
   "cell_type": "code",
   "execution_count": 31,
   "metadata": {},
   "outputs": [],
   "source": [
    "model_json = model.to_json()\n",
    "with open(\"model.json\", \"w\") as json_file:\n",
    "    json_file.write(model_json)\n"
   ]
  },
  {
   "cell_type": "code",
   "execution_count": 32,
   "metadata": {},
   "outputs": [
    {
     "name": "stdout",
     "output_type": "stream",
     "text": [
      "Saved model to disk\n"
     ]
    }
   ],
   "source": [
    "model.save_weights(\"model.h5\")\n",
    "print(\"Saved model to disk\")\n"
   ]
  },
  {
   "cell_type": "code",
   "execution_count": null,
   "metadata": {},
   "outputs": [],
   "source": []
  }
 ],
 "metadata": {
  "kernelspec": {
   "display_name": "Python 3",
   "language": "python",
   "name": "python3"
  },
  "language_info": {
   "codemirror_mode": {
    "name": "ipython",
    "version": 3
   },
   "file_extension": ".py",
   "mimetype": "text/x-python",
   "name": "python",
   "nbconvert_exporter": "python",
   "pygments_lexer": "ipython3",
   "version": "3.6.5"
  }
 },
 "nbformat": 4,
 "nbformat_minor": 2
}
